{
  "nbformat": 4,
  "nbformat_minor": 0,
  "metadata": {
    "colab": {
      "provenance": []
    },
    "kernelspec": {
      "name": "python3",
      "display_name": "Python 3"
    },
    "language_info": {
      "name": "python"
    }
  },
  "cells": [
    {
      "cell_type": "markdown",
      "source": [
        "# Stamp Sales Analysis for CPNS Purposes\n",
        "by: @mufiiin"
      ],
      "metadata": {
        "id": "-uoaPMJyxSph"
      }
    },
    {
      "cell_type": "markdown",
      "source": [
        "## A. Prepare Dataset"
      ],
      "metadata": {
        "id": "gqk761B_xuLV"
      }
    },
    {
      "cell_type": "code",
      "source": [
        "import pandas as pd"
      ],
      "metadata": {
        "id": "QBpkqMC0Do8t"
      },
      "execution_count": 1,
      "outputs": []
    },
    {
      "cell_type": "code",
      "source": [
        "!git clone https://github.com/fadhiljr7/datascience005.git"
      ],
      "metadata": {
        "id": "1D4MR3raxCB-"
      },
      "execution_count": null,
      "outputs": []
    },
    {
      "cell_type": "code",
      "source": [
        "!unzip /content/datascience005/archive.zip"
      ],
      "metadata": {
        "id": "4RYvDEUJxFyK"
      },
      "execution_count": null,
      "outputs": []
    },
    {
      "cell_type": "code",
      "source": [
        "df = pd.read_csv('/content/cpns2024.csv', sep=';')"
      ],
      "metadata": {
        "id": "djhVVN7dD4Gb"
      },
      "execution_count": 2,
      "outputs": []
    },
    {
      "cell_type": "markdown",
      "source": [
        "## B. Exploratory Data Analysis"
      ],
      "metadata": {
        "id": "HchktqXVx1pq"
      }
    },
    {
      "cell_type": "markdown",
      "source": [
        "### Data SetUp"
      ],
      "metadata": {
        "id": "LrqZKKXc15w0"
      }
    },
    {
      "cell_type": "code",
      "source": [
        "df.head()"
      ],
      "metadata": {
        "colab": {
          "base_uri": "https://localhost:8080/",
          "height": 206
        },
        "id": "aY97-GUcD-P-",
        "outputId": "723ea01d-eeb9-4f2b-ca23-93b690117413"
      },
      "execution_count": null,
      "outputs": [
        {
          "output_type": "execute_result",
          "data": {
            "text/plain": [
              "   No                           Instansi  Formasi  Pendaftar  Submit    MS  \\\n",
              "0   1  Arsip Nasional Republik Indonesia       99       4628    3758  3227   \n",
              "1   2         Badan Informasi Geospasial       82       1208    1009   867   \n",
              "2   3             Badan Intelijen Negara      600      14102    7514  4428   \n",
              "3   4          Badan Karantina Indonesia      525       7478    7031  6519   \n",
              "4   5             Badan Keamanan Laut RI      397       2695    1365   860   \n",
              "\n",
              "    TMS  \n",
              "0   531  \n",
              "1   142  \n",
              "2  3086  \n",
              "3   512  \n",
              "4   497  "
            ],
            "text/html": [
              "\n",
              "  <div id=\"df-04de4734-5ce2-42c3-9e9d-058d348b8c56\" class=\"colab-df-container\">\n",
              "    <div>\n",
              "<style scoped>\n",
              "    .dataframe tbody tr th:only-of-type {\n",
              "        vertical-align: middle;\n",
              "    }\n",
              "\n",
              "    .dataframe tbody tr th {\n",
              "        vertical-align: top;\n",
              "    }\n",
              "\n",
              "    .dataframe thead th {\n",
              "        text-align: right;\n",
              "    }\n",
              "</style>\n",
              "<table border=\"1\" class=\"dataframe\">\n",
              "  <thead>\n",
              "    <tr style=\"text-align: right;\">\n",
              "      <th></th>\n",
              "      <th>No</th>\n",
              "      <th>Instansi</th>\n",
              "      <th>Formasi</th>\n",
              "      <th>Pendaftar</th>\n",
              "      <th>Submit</th>\n",
              "      <th>MS</th>\n",
              "      <th>TMS</th>\n",
              "    </tr>\n",
              "  </thead>\n",
              "  <tbody>\n",
              "    <tr>\n",
              "      <th>0</th>\n",
              "      <td>1</td>\n",
              "      <td>Arsip Nasional Republik Indonesia</td>\n",
              "      <td>99</td>\n",
              "      <td>4628</td>\n",
              "      <td>3758</td>\n",
              "      <td>3227</td>\n",
              "      <td>531</td>\n",
              "    </tr>\n",
              "    <tr>\n",
              "      <th>1</th>\n",
              "      <td>2</td>\n",
              "      <td>Badan Informasi Geospasial</td>\n",
              "      <td>82</td>\n",
              "      <td>1208</td>\n",
              "      <td>1009</td>\n",
              "      <td>867</td>\n",
              "      <td>142</td>\n",
              "    </tr>\n",
              "    <tr>\n",
              "      <th>2</th>\n",
              "      <td>3</td>\n",
              "      <td>Badan Intelijen Negara</td>\n",
              "      <td>600</td>\n",
              "      <td>14102</td>\n",
              "      <td>7514</td>\n",
              "      <td>4428</td>\n",
              "      <td>3086</td>\n",
              "    </tr>\n",
              "    <tr>\n",
              "      <th>3</th>\n",
              "      <td>4</td>\n",
              "      <td>Badan Karantina Indonesia</td>\n",
              "      <td>525</td>\n",
              "      <td>7478</td>\n",
              "      <td>7031</td>\n",
              "      <td>6519</td>\n",
              "      <td>512</td>\n",
              "    </tr>\n",
              "    <tr>\n",
              "      <th>4</th>\n",
              "      <td>5</td>\n",
              "      <td>Badan Keamanan Laut RI</td>\n",
              "      <td>397</td>\n",
              "      <td>2695</td>\n",
              "      <td>1365</td>\n",
              "      <td>860</td>\n",
              "      <td>497</td>\n",
              "    </tr>\n",
              "  </tbody>\n",
              "</table>\n",
              "</div>\n",
              "    <div class=\"colab-df-buttons\">\n",
              "\n",
              "  <div class=\"colab-df-container\">\n",
              "    <button class=\"colab-df-convert\" onclick=\"convertToInteractive('df-04de4734-5ce2-42c3-9e9d-058d348b8c56')\"\n",
              "            title=\"Convert this dataframe to an interactive table.\"\n",
              "            style=\"display:none;\">\n",
              "\n",
              "  <svg xmlns=\"http://www.w3.org/2000/svg\" height=\"24px\" viewBox=\"0 -960 960 960\">\n",
              "    <path d=\"M120-120v-720h720v720H120Zm60-500h600v-160H180v160Zm220 220h160v-160H400v160Zm0 220h160v-160H400v160ZM180-400h160v-160H180v160Zm440 0h160v-160H620v160ZM180-180h160v-160H180v160Zm440 0h160v-160H620v160Z\"/>\n",
              "  </svg>\n",
              "    </button>\n",
              "\n",
              "  <style>\n",
              "    .colab-df-container {\n",
              "      display:flex;\n",
              "      gap: 12px;\n",
              "    }\n",
              "\n",
              "    .colab-df-convert {\n",
              "      background-color: #E8F0FE;\n",
              "      border: none;\n",
              "      border-radius: 50%;\n",
              "      cursor: pointer;\n",
              "      display: none;\n",
              "      fill: #1967D2;\n",
              "      height: 32px;\n",
              "      padding: 0 0 0 0;\n",
              "      width: 32px;\n",
              "    }\n",
              "\n",
              "    .colab-df-convert:hover {\n",
              "      background-color: #E2EBFA;\n",
              "      box-shadow: 0px 1px 2px rgba(60, 64, 67, 0.3), 0px 1px 3px 1px rgba(60, 64, 67, 0.15);\n",
              "      fill: #174EA6;\n",
              "    }\n",
              "\n",
              "    .colab-df-buttons div {\n",
              "      margin-bottom: 4px;\n",
              "    }\n",
              "\n",
              "    [theme=dark] .colab-df-convert {\n",
              "      background-color: #3B4455;\n",
              "      fill: #D2E3FC;\n",
              "    }\n",
              "\n",
              "    [theme=dark] .colab-df-convert:hover {\n",
              "      background-color: #434B5C;\n",
              "      box-shadow: 0px 1px 3px 1px rgba(0, 0, 0, 0.15);\n",
              "      filter: drop-shadow(0px 1px 2px rgba(0, 0, 0, 0.3));\n",
              "      fill: #FFFFFF;\n",
              "    }\n",
              "  </style>\n",
              "\n",
              "    <script>\n",
              "      const buttonEl =\n",
              "        document.querySelector('#df-04de4734-5ce2-42c3-9e9d-058d348b8c56 button.colab-df-convert');\n",
              "      buttonEl.style.display =\n",
              "        google.colab.kernel.accessAllowed ? 'block' : 'none';\n",
              "\n",
              "      async function convertToInteractive(key) {\n",
              "        const element = document.querySelector('#df-04de4734-5ce2-42c3-9e9d-058d348b8c56');\n",
              "        const dataTable =\n",
              "          await google.colab.kernel.invokeFunction('convertToInteractive',\n",
              "                                                    [key], {});\n",
              "        if (!dataTable) return;\n",
              "\n",
              "        const docLinkHtml = 'Like what you see? Visit the ' +\n",
              "          '<a target=\"_blank\" href=https://colab.research.google.com/notebooks/data_table.ipynb>data table notebook</a>'\n",
              "          + ' to learn more about interactive tables.';\n",
              "        element.innerHTML = '';\n",
              "        dataTable['output_type'] = 'display_data';\n",
              "        await google.colab.output.renderOutput(dataTable, element);\n",
              "        const docLink = document.createElement('div');\n",
              "        docLink.innerHTML = docLinkHtml;\n",
              "        element.appendChild(docLink);\n",
              "      }\n",
              "    </script>\n",
              "  </div>\n",
              "\n",
              "\n",
              "<div id=\"df-c21927a8-04a4-4ca6-8004-2277e10e2b98\">\n",
              "  <button class=\"colab-df-quickchart\" onclick=\"quickchart('df-c21927a8-04a4-4ca6-8004-2277e10e2b98')\"\n",
              "            title=\"Suggest charts\"\n",
              "            style=\"display:none;\">\n",
              "\n",
              "<svg xmlns=\"http://www.w3.org/2000/svg\" height=\"24px\"viewBox=\"0 0 24 24\"\n",
              "     width=\"24px\">\n",
              "    <g>\n",
              "        <path d=\"M19 3H5c-1.1 0-2 .9-2 2v14c0 1.1.9 2 2 2h14c1.1 0 2-.9 2-2V5c0-1.1-.9-2-2-2zM9 17H7v-7h2v7zm4 0h-2V7h2v10zm4 0h-2v-4h2v4z\"/>\n",
              "    </g>\n",
              "</svg>\n",
              "  </button>\n",
              "\n",
              "<style>\n",
              "  .colab-df-quickchart {\n",
              "      --bg-color: #E8F0FE;\n",
              "      --fill-color: #1967D2;\n",
              "      --hover-bg-color: #E2EBFA;\n",
              "      --hover-fill-color: #174EA6;\n",
              "      --disabled-fill-color: #AAA;\n",
              "      --disabled-bg-color: #DDD;\n",
              "  }\n",
              "\n",
              "  [theme=dark] .colab-df-quickchart {\n",
              "      --bg-color: #3B4455;\n",
              "      --fill-color: #D2E3FC;\n",
              "      --hover-bg-color: #434B5C;\n",
              "      --hover-fill-color: #FFFFFF;\n",
              "      --disabled-bg-color: #3B4455;\n",
              "      --disabled-fill-color: #666;\n",
              "  }\n",
              "\n",
              "  .colab-df-quickchart {\n",
              "    background-color: var(--bg-color);\n",
              "    border: none;\n",
              "    border-radius: 50%;\n",
              "    cursor: pointer;\n",
              "    display: none;\n",
              "    fill: var(--fill-color);\n",
              "    height: 32px;\n",
              "    padding: 0;\n",
              "    width: 32px;\n",
              "  }\n",
              "\n",
              "  .colab-df-quickchart:hover {\n",
              "    background-color: var(--hover-bg-color);\n",
              "    box-shadow: 0 1px 2px rgba(60, 64, 67, 0.3), 0 1px 3px 1px rgba(60, 64, 67, 0.15);\n",
              "    fill: var(--button-hover-fill-color);\n",
              "  }\n",
              "\n",
              "  .colab-df-quickchart-complete:disabled,\n",
              "  .colab-df-quickchart-complete:disabled:hover {\n",
              "    background-color: var(--disabled-bg-color);\n",
              "    fill: var(--disabled-fill-color);\n",
              "    box-shadow: none;\n",
              "  }\n",
              "\n",
              "  .colab-df-spinner {\n",
              "    border: 2px solid var(--fill-color);\n",
              "    border-color: transparent;\n",
              "    border-bottom-color: var(--fill-color);\n",
              "    animation:\n",
              "      spin 1s steps(1) infinite;\n",
              "  }\n",
              "\n",
              "  @keyframes spin {\n",
              "    0% {\n",
              "      border-color: transparent;\n",
              "      border-bottom-color: var(--fill-color);\n",
              "      border-left-color: var(--fill-color);\n",
              "    }\n",
              "    20% {\n",
              "      border-color: transparent;\n",
              "      border-left-color: var(--fill-color);\n",
              "      border-top-color: var(--fill-color);\n",
              "    }\n",
              "    30% {\n",
              "      border-color: transparent;\n",
              "      border-left-color: var(--fill-color);\n",
              "      border-top-color: var(--fill-color);\n",
              "      border-right-color: var(--fill-color);\n",
              "    }\n",
              "    40% {\n",
              "      border-color: transparent;\n",
              "      border-right-color: var(--fill-color);\n",
              "      border-top-color: var(--fill-color);\n",
              "    }\n",
              "    60% {\n",
              "      border-color: transparent;\n",
              "      border-right-color: var(--fill-color);\n",
              "    }\n",
              "    80% {\n",
              "      border-color: transparent;\n",
              "      border-right-color: var(--fill-color);\n",
              "      border-bottom-color: var(--fill-color);\n",
              "    }\n",
              "    90% {\n",
              "      border-color: transparent;\n",
              "      border-bottom-color: var(--fill-color);\n",
              "    }\n",
              "  }\n",
              "</style>\n",
              "\n",
              "  <script>\n",
              "    async function quickchart(key) {\n",
              "      const quickchartButtonEl =\n",
              "        document.querySelector('#' + key + ' button');\n",
              "      quickchartButtonEl.disabled = true;  // To prevent multiple clicks.\n",
              "      quickchartButtonEl.classList.add('colab-df-spinner');\n",
              "      try {\n",
              "        const charts = await google.colab.kernel.invokeFunction(\n",
              "            'suggestCharts', [key], {});\n",
              "      } catch (error) {\n",
              "        console.error('Error during call to suggestCharts:', error);\n",
              "      }\n",
              "      quickchartButtonEl.classList.remove('colab-df-spinner');\n",
              "      quickchartButtonEl.classList.add('colab-df-quickchart-complete');\n",
              "    }\n",
              "    (() => {\n",
              "      let quickchartButtonEl =\n",
              "        document.querySelector('#df-c21927a8-04a4-4ca6-8004-2277e10e2b98 button');\n",
              "      quickchartButtonEl.style.display =\n",
              "        google.colab.kernel.accessAllowed ? 'block' : 'none';\n",
              "    })();\n",
              "  </script>\n",
              "</div>\n",
              "\n",
              "    </div>\n",
              "  </div>\n"
            ],
            "application/vnd.google.colaboratory.intrinsic+json": {
              "type": "dataframe",
              "variable_name": "df",
              "summary": "{\n  \"name\": \"df\",\n  \"rows\": 543,\n  \"fields\": [\n    {\n      \"column\": \"No\",\n      \"properties\": {\n        \"dtype\": \"number\",\n        \"std\": 156,\n        \"min\": 1,\n        \"max\": 543,\n        \"num_unique_values\": 543,\n        \"samples\": [\n          531,\n          479,\n          355\n        ],\n        \"semantic_type\": \"\",\n        \"description\": \"\"\n      }\n    },\n    {\n      \"column\": \"Instansi\",\n      \"properties\": {\n        \"dtype\": \"string\",\n        \"num_unique_values\": 543,\n        \"samples\": [\n          \"Pemerintah Provinsi Sulawesi Tenggara\",\n          \"Pemerintah Kota Pekanbaru\",\n          \"Pemerintah Kab. Sampang\"\n        ],\n        \"semantic_type\": \"\",\n        \"description\": \"\"\n      }\n    },\n    {\n      \"column\": \"Formasi\",\n      \"properties\": {\n        \"dtype\": \"number\",\n        \"std\": 1366,\n        \"min\": 5,\n        \"max\": 20772,\n        \"num_unique_values\": 297,\n        \"samples\": [\n          62,\n          58,\n          331\n        ],\n        \"semantic_type\": \"\",\n        \"description\": \"\"\n      }\n    },\n    {\n      \"column\": \"Pendaftar\",\n      \"properties\": {\n        \"dtype\": \"number\",\n        \"std\": 31346,\n        \"min\": 12,\n        \"max\": 567552,\n        \"num_unique_values\": 523,\n        \"samples\": [\n          507,\n          1974,\n          39790\n        ],\n        \"semantic_type\": \"\",\n        \"description\": \"\"\n      }\n    },\n    {\n      \"column\": \"Submit\",\n      \"properties\": {\n        \"dtype\": \"number\",\n        \"std\": 27871,\n        \"min\": 12,\n        \"max\": 491651,\n        \"num_unique_values\": 520,\n        \"samples\": [\n          645,\n          1309,\n          36373\n        ],\n        \"semantic_type\": \"\",\n        \"description\": \"\"\n      }\n    },\n    {\n      \"column\": \"MS\",\n      \"properties\": {\n        \"dtype\": \"number\",\n        \"std\": 24038,\n        \"min\": 0,\n        \"max\": 440532,\n        \"num_unique_values\": 525,\n        \"samples\": [\n          1412,\n          14022,\n          27685\n        ],\n        \"semantic_type\": \"\",\n        \"description\": \"\"\n      }\n    },\n    {\n      \"column\": \"TMS\",\n      \"properties\": {\n        \"dtype\": \"number\",\n        \"std\": 3902,\n        \"min\": 0,\n        \"max\": 67286,\n        \"num_unique_values\": 440,\n        \"samples\": [\n          148,\n          731,\n          37\n        ],\n        \"semantic_type\": \"\",\n        \"description\": \"\"\n      }\n    }\n  ]\n}"
            }
          },
          "metadata": {},
          "execution_count": 3
        }
      ]
    },
    {
      "cell_type": "code",
      "source": [
        "df.info()"
      ],
      "metadata": {
        "id": "MuWIBQoUEMzW",
        "colab": {
          "base_uri": "https://localhost:8080/"
        },
        "outputId": "ca57c933-382c-44c9-a04a-3711401a026e"
      },
      "execution_count": null,
      "outputs": [
        {
          "output_type": "stream",
          "name": "stdout",
          "text": [
            "<class 'pandas.core.frame.DataFrame'>\n",
            "RangeIndex: 543 entries, 0 to 542\n",
            "Data columns (total 7 columns):\n",
            " #   Column     Non-Null Count  Dtype \n",
            "---  ------     --------------  ----- \n",
            " 0   No         543 non-null    int64 \n",
            " 1   Instansi   543 non-null    object\n",
            " 2   Formasi    543 non-null    int64 \n",
            " 3   Pendaftar  543 non-null    int64 \n",
            " 4   Submit     543 non-null    int64 \n",
            " 5   MS         543 non-null    int64 \n",
            " 6   TMS        543 non-null    int64 \n",
            "dtypes: int64(6), object(1)\n",
            "memory usage: 29.8+ KB\n"
          ]
        }
      ]
    },
    {
      "cell_type": "code",
      "source": [
        "registrants = df['Pendaftar'].sum()\n",
        "print(f\"Total Registrants: {registrants}\")"
      ],
      "metadata": {
        "colab": {
          "base_uri": "https://localhost:8080/"
        },
        "id": "3BJqzbk0E1EH",
        "outputId": "571cee0f-c83b-42d0-d933-b98149f77b72"
      },
      "execution_count": 3,
      "outputs": [
        {
          "output_type": "stream",
          "name": "stdout",
          "text": [
            "Total Registrants: 3963832\n"
          ]
        }
      ]
    },
    {
      "cell_type": "code",
      "source": [
        "avg_registrants = df['Pendaftar'].mean()\n",
        "print(f\"Average Registrants for each Intantition: {avg_registrants}\")"
      ],
      "metadata": {
        "colab": {
          "base_uri": "https://localhost:8080/"
        },
        "id": "IxkKfpNMyAlE",
        "outputId": "2260cc73-4bda-4a8a-cc62-c881397babe5"
      },
      "execution_count": 4,
      "outputs": [
        {
          "output_type": "stream",
          "name": "stdout",
          "text": [
            "Average Registrants for each Intantition: 7299.874769797421\n"
          ]
        }
      ]
    },
    {
      "cell_type": "code",
      "source": [
        "submited = df['Submit'].sum()\n",
        "print(f\"Total Submited Aplications: {submited}\")"
      ],
      "metadata": {
        "colab": {
          "base_uri": "https://localhost:8080/"
        },
        "id": "fRwKlaJsGy9j",
        "outputId": "95c65bcf-1624-4a3b-ae33-3f98ecfc699a"
      },
      "execution_count": 5,
      "outputs": [
        {
          "output_type": "stream",
          "name": "stdout",
          "text": [
            "Total Submited Aplications: 3572414\n"
          ]
        }
      ]
    },
    {
      "cell_type": "code",
      "source": [
        "avg_submited = df['Submit'].mean()\n",
        "print(f\"Average Submited Aplications: {avg_submited}\")"
      ],
      "metadata": {
        "colab": {
          "base_uri": "https://localhost:8080/"
        },
        "id": "eoEXiPDUGyfh",
        "outputId": "9b7eff51-35cd-490c-a82a-fb592a827355"
      },
      "execution_count": 6,
      "outputs": [
        {
          "output_type": "stream",
          "name": "stdout",
          "text": [
            "Average Submited Aplications: 6579.031307550645\n"
          ]
        }
      ]
    },
    {
      "cell_type": "code",
      "source": [
        "stamp_price1 = 10000\n",
        "stamp_price2 = 12000"
      ],
      "metadata": {
        "id": "QMIwZUljvtt5"
      },
      "execution_count": 7,
      "outputs": []
    },
    {
      "cell_type": "markdown",
      "source": [
        "### Maximum and Minimum Profit"
      ],
      "metadata": {
        "id": "L3ozFp4Z0_Zw"
      }
    },
    {
      "cell_type": "code",
      "source": [
        "total_price = registrants * stamp_price1\n",
        "stampx2 = total_price * 2\n",
        "\n",
        "price_rp = f\"Rp{total_price:,.0f}\"\n",
        "stampx2_rp = f\"Rp{stampx2:,.0f}\"\n",
        "\n",
        "print(f\"Total stamp duty cost: {price_rp}\")\n",
        "print(f\"Total stamp duty cost x2: {stampx2_rp}\")"
      ],
      "metadata": {
        "colab": {
          "base_uri": "https://localhost:8080/"
        },
        "id": "CelWgqhjF0xO",
        "outputId": "769b7b27-f651-4627-c49a-94594998b70c"
      },
      "execution_count": null,
      "outputs": [
        {
          "output_type": "stream",
          "name": "stdout",
          "text": [
            "Total stamp duty cost: Rp39,638,320,000\n",
            "Total stamp duty cost x2: Rp79,276,640,000\n"
          ]
        }
      ]
    },
    {
      "cell_type": "code",
      "source": [
        "total_price = registrants * stamp_price2\n",
        "stampx2 = total_price * 2\n",
        "\n",
        "price_rp = f\"Rp{total_price:,.0f}\"\n",
        "stampx2_rp = f\"Rp{stampx2:,.0f}\"\n",
        "\n",
        "print(f\"Total stamp duty cost: {price_rp}\")\n",
        "print(f\"Total stamp duty cost x2: {stampx2_rp}\")"
      ],
      "metadata": {
        "id": "X0UwMqqIIcvm",
        "colab": {
          "base_uri": "https://localhost:8080/"
        },
        "outputId": "0ece4676-60d1-47aa-b223-9ecd1f896b97"
      },
      "execution_count": null,
      "outputs": [
        {
          "output_type": "stream",
          "name": "stdout",
          "text": [
            "Total stamp duty cost: Rp47,565,984,000\n",
            "Total stamp duty cost x2: Rp95,131,968,000\n"
          ]
        }
      ]
    },
    {
      "cell_type": "markdown",
      "source": [
        "### Submited Applicants"
      ],
      "metadata": {
        "id": "29nqZz43FHar"
      }
    },
    {
      "cell_type": "code",
      "source": [
        "total_price = submited * stamp_price1\n",
        "stampx2 = total_price * 2\n",
        "\n",
        "price_rp = f\"Rp{total_price:,.0f}\"\n",
        "stampx2_rp = f\"Rp{stampx2:,.0f}\"\n",
        "\n",
        "print(f\"Total stamp duty cost: {price_rp}\")\n",
        "print(f\"Total stamp duty cost x2: {stampx2_rp}\")"
      ],
      "metadata": {
        "colab": {
          "base_uri": "https://localhost:8080/"
        },
        "id": "9rdWxno2Gr-F",
        "outputId": "982ec55d-218d-41d8-cc94-87e298a64062"
      },
      "execution_count": null,
      "outputs": [
        {
          "output_type": "stream",
          "name": "stdout",
          "text": [
            "Total stamp duty cost: Rp35,724,140,000\n",
            "Total stamp duty cost x2: Rp71,448,280,000\n"
          ]
        }
      ]
    },
    {
      "cell_type": "code",
      "source": [
        "total_price = submited * stamp_price2\n",
        "stampx2 = total_price * 2\n",
        "\n",
        "price_rp = f\"Rp{total_price:,.0f}\"\n",
        "stampx2_rp = f\"Rp{stampx2:,.0f}\"\n",
        "\n",
        "print(f\"Total stamp duty cost: {price_rp}\")\n",
        "print(f\"Total stamp duty cost x2: {stampx2_rp}\")"
      ],
      "metadata": {
        "colab": {
          "base_uri": "https://localhost:8080/"
        },
        "id": "h-0_y0MwHZ5c",
        "outputId": "ecda9a6c-d05d-47a3-e8cc-00c9890d424f"
      },
      "execution_count": null,
      "outputs": [
        {
          "output_type": "stream",
          "name": "stdout",
          "text": [
            "Total stamp duty cost: Rp42,868,968,000\n",
            "Total stamp duty cost x2: Rp85,737,936,000\n"
          ]
        }
      ]
    },
    {
      "cell_type": "markdown",
      "source": [
        "### Applicants are Eligible or Not"
      ],
      "metadata": {
        "id": "sqWGfQwLEajk"
      }
    },
    {
      "cell_type": "code",
      "source": [
        "ms = df['MS'].sum()\n",
        "print(f\"eligible Applicants: {ms}\")"
      ],
      "metadata": {
        "colab": {
          "base_uri": "https://localhost:8080/"
        },
        "id": "kGAoPNnqEfX5",
        "outputId": "5dcff9c4-4738-4276-863e-8c41430a50ea"
      },
      "execution_count": null,
      "outputs": [
        {
          "output_type": "stream",
          "name": "stdout",
          "text": [
            "eligible Applicants: 2855597\n"
          ]
        }
      ]
    },
    {
      "cell_type": "code",
      "source": [
        "tms = df['TMS'].sum()\n",
        "print(f\"not eligible Applicants: {tms}\")"
      ],
      "metadata": {
        "colab": {
          "base_uri": "https://localhost:8080/"
        },
        "id": "-DeJ2-jQEpsE",
        "outputId": "7c1d2ba3-5e60-4ef2-f2d0-d79128e4d20f"
      },
      "execution_count": null,
      "outputs": [
        {
          "output_type": "stream",
          "name": "stdout",
          "text": [
            "not eligible Applicants: 599528\n"
          ]
        }
      ]
    },
    {
      "cell_type": "code",
      "source": [
        "total_price = ms * stamp_price1\n",
        "stampx2 = total_price * 2\n",
        "\n",
        "price_rp = f\"Rp{total_price:,.0f}\"\n",
        "stampx2_rp = f\"Rp{stampx2:,.0f}\"\n",
        "\n",
        "print(f\"Total stamp duty cost: {price_rp}\")\n",
        "print(f\"Total stamp duty cost x2: {stampx2_rp}\")"
      ],
      "metadata": {
        "colab": {
          "base_uri": "https://localhost:8080/"
        },
        "id": "nloh6kU7E4Yq",
        "outputId": "af7b26f1-18a2-4a86-dfae-25db3d112b10"
      },
      "execution_count": null,
      "outputs": [
        {
          "output_type": "stream",
          "name": "stdout",
          "text": [
            "Total stamp duty cost: Rp28,555,970,000\n",
            "Total stamp duty cost x2: Rp57,111,940,000\n"
          ]
        }
      ]
    },
    {
      "cell_type": "code",
      "source": [
        "total_price = tms * stamp_price1\n",
        "stampx2 = total_price * 2\n",
        "\n",
        "price_rp = f\"Rp{total_price:,.0f}\"\n",
        "stampx2_rp = f\"Rp{stampx2:,.0f}\"\n",
        "\n",
        "print(f\"Total stamp duty cost: {price_rp}\")\n",
        "print(f\"Total stamp duty cost x2: {stampx2_rp}\")"
      ],
      "metadata": {
        "colab": {
          "base_uri": "https://localhost:8080/"
        },
        "id": "Xv9KDUjBE-Fk",
        "outputId": "2de06399-0af1-4ed4-88f9-f3e619de17bf"
      },
      "execution_count": null,
      "outputs": [
        {
          "output_type": "stream",
          "name": "stdout",
          "text": [
            "Total stamp duty cost: Rp5,995,280,000\n",
            "Total stamp duty cost x2: Rp11,990,560,000\n"
          ]
        }
      ]
    },
    {
      "cell_type": "markdown",
      "source": [
        "### Average Profit for Each Agency"
      ],
      "metadata": {
        "id": "U3N-knqN1S9N"
      }
    },
    {
      "cell_type": "code",
      "source": [
        "total_price = avg_registrants * stamp_price1\n",
        "price_rp = f\"Rp{total_price:,.0f}\"\n",
        "print(f\"Total stamp duty cost: {price_rp}\")"
      ],
      "metadata": {
        "colab": {
          "base_uri": "https://localhost:8080/"
        },
        "id": "CVeKe9_YyfzM",
        "outputId": "fc602bf0-e297-4629-ba78-d5ec4cef40c3"
      },
      "execution_count": null,
      "outputs": [
        {
          "output_type": "stream",
          "name": "stdout",
          "text": [
            "Total stamp duty cost: Rp72,998,748\n"
          ]
        }
      ]
    },
    {
      "cell_type": "code",
      "source": [
        "total_price = avg_submited * stamp_price1\n",
        "price_rp = f\"Rp{total_price:,.0f}\"\n",
        "print(f\"Total stamp duty cost: {price_rp}\")"
      ],
      "metadata": {
        "colab": {
          "base_uri": "https://localhost:8080/"
        },
        "id": "CXIHBIlZIsf8",
        "outputId": "eed00709-0215-4357-c715-87369c506695"
      },
      "execution_count": null,
      "outputs": [
        {
          "output_type": "stream",
          "name": "stdout",
          "text": [
            "Total stamp duty cost: Rp65,790,313\n"
          ]
        }
      ]
    },
    {
      "cell_type": "markdown",
      "source": [
        "### The Smallest and Largest Possible Profits"
      ],
      "metadata": {
        "id": "4q8zOVWI1tXR"
      }
    },
    {
      "cell_type": "code",
      "source": [
        "registrants_min = df['Pendaftar'].min()\n",
        "print(f\"Total Registrants: {registrants_min}\")"
      ],
      "metadata": {
        "colab": {
          "base_uri": "https://localhost:8080/"
        },
        "id": "T_hUmFI2v1o-",
        "outputId": "5e161a7e-3e31-4416-d032-707df9de12e1"
      },
      "execution_count": null,
      "outputs": [
        {
          "output_type": "stream",
          "name": "stdout",
          "text": [
            "Total Registrants: 12\n"
          ]
        }
      ]
    },
    {
      "cell_type": "code",
      "source": [
        "registrants_max = df['Pendaftar'].max()\n",
        "print(f\"Total Registrants: {registrants_max}\")"
      ],
      "metadata": {
        "colab": {
          "base_uri": "https://localhost:8080/"
        },
        "id": "PAXIwTgEwC35",
        "outputId": "4be50fdc-3549-449b-e1f9-2baef6b58b30"
      },
      "execution_count": null,
      "outputs": [
        {
          "output_type": "stream",
          "name": "stdout",
          "text": [
            "Total Registrants: 567552\n"
          ]
        }
      ]
    },
    {
      "cell_type": "code",
      "source": [
        "total_price = registrants_min * stamp_price1\n",
        "price_rp = f\"Rp{total_price:,.0f}\"\n",
        "print(f\"Total stamp duty cost: {price_rp}\")"
      ],
      "metadata": {
        "colab": {
          "base_uri": "https://localhost:8080/"
        },
        "id": "RNW03SulwHDO",
        "outputId": "19d97f48-ee61-4221-c16e-ccf8509f2c13"
      },
      "execution_count": null,
      "outputs": [
        {
          "output_type": "stream",
          "name": "stdout",
          "text": [
            "Total stamp duty cost: Rp120,000\n"
          ]
        }
      ]
    },
    {
      "cell_type": "code",
      "source": [
        "total_price = registrants_max * stamp_price1\n",
        "price_rp = f\"Rp{total_price:,.0f}\"\n",
        "print(f\"Total stamp duty cost: {price_rp}\")"
      ],
      "metadata": {
        "colab": {
          "base_uri": "https://localhost:8080/"
        },
        "id": "YCTH-r2zwXZc",
        "outputId": "a69d31c8-5f45-4a92-e6ce-ab37baecf9b5"
      },
      "execution_count": null,
      "outputs": [
        {
          "output_type": "stream",
          "name": "stdout",
          "text": [
            "Total stamp duty cost: Rp5,675,520,000\n"
          ]
        }
      ]
    }
  ]
}